{
 "cells": [
  {
   "cell_type": "markdown",
   "id": "d5eb13eb",
   "metadata": {},
   "source": [
    "# Step 2: candidates scorecard"
   ]
  },
  {
   "cell_type": "markdown",
   "id": "37d0b711",
   "metadata": {},
   "source": [
    "### Our client has a series of requirements that we have summarize as follows:"
   ]
  },
  {
   "cell_type": "markdown",
   "id": "a8001038",
   "metadata": {},
   "source": [
    "- Designers like to go to design talks and share knowledge. There must be some nearby companies that also do design.\n",
    "- 30% of the company staff have at least 1 child.\n",
    "- Developers like to be near successful tech startups that have raised at least 1 Million dollars.\n",
    "- Executives like Starbucks A LOT. Ensure there's a starbucks not too far.\n",
    "- Account managers need to travel a lot.\n",
    "- Everyone in the company is between 25 and 40, give them some place to go party.\n",
    "- The CEO is vegan."
   ]
  },
  {
   "cell_type": "code",
   "execution_count": null,
   "id": "bd0c6ac8",
   "metadata": {},
   "outputs": [],
   "source": []
  },
  {
   "cell_type": "code",
   "execution_count": null,
   "id": "c3fb2ecd",
   "metadata": {},
   "outputs": [],
   "source": []
  },
  {
   "cell_type": "markdown",
   "id": "406a765b",
   "metadata": {},
   "source": [
    "### First, we must build a database with venues around the candidate:"
   ]
  },
  {
   "cell_type": "code",
   "execution_count": 1,
   "id": "047cee26",
   "metadata": {},
   "outputs": [],
   "source": [
    "import pandas as pd"
   ]
  },
  {
   "cell_type": "code",
   "execution_count": 2,
   "id": "91713989",
   "metadata": {},
   "outputs": [],
   "source": [
    "from src import api_functions as af"
   ]
  },
  {
   "cell_type": "markdown",
   "id": "0ae77f0d",
   "metadata": {},
   "source": [
    "cargamos nuestra lista de candidatos:"
   ]
  },
  {
   "cell_type": "code",
   "execution_count": 3,
   "id": "edc21089",
   "metadata": {},
   "outputs": [],
   "source": [
    "df = pd.read_csv(\"DATA/candidates.csv\")\n",
    "df.drop(\"Unnamed: 0\", axis=1,inplace=True)"
   ]
  },
  {
   "cell_type": "code",
   "execution_count": 34,
   "id": "6f0ffa83",
   "metadata": {},
   "outputs": [],
   "source": [
    "#df"
   ]
  },
  {
   "cell_type": "code",
   "execution_count": 5,
   "id": "3c7bb8ab",
   "metadata": {
    "scrolled": true
   },
   "outputs": [
    {
     "data": {
      "text/plain": [
       "'37.76785,-122.392861'"
      ]
     },
     "execution_count": 5,
     "metadata": {},
     "output_type": "execute_result"
    }
   ],
   "source": [
    "location=f\"{df.iloc[0].latitude},{df.iloc[0].longitude}\"\n",
    "location"
   ]
  },
  {
   "cell_type": "code",
   "execution_count": 6,
   "id": "4b21ffc3",
   "metadata": {},
   "outputs": [],
   "source": [
    "radio=800"
   ]
  },
  {
   "cell_type": "code",
   "execution_count": 7,
   "id": "52f3c1b2",
   "metadata": {},
   "outputs": [],
   "source": [
    "veganos = af.google(\"vegan\",radio,location)"
   ]
  },
  {
   "cell_type": "code",
   "execution_count": 8,
   "id": "10ff61d5",
   "metadata": {},
   "outputs": [
    {
     "data": {
      "text/plain": [
       "{'html_attributions': [],\n",
       " 'results': [{'business_status': 'OPERATIONAL',\n",
       "   'geometry': {'location': {'lat': 37.7708976, 'lng': -122.3929305},\n",
       "    'viewport': {'northeast': {'lat': 37.77221602989272,\n",
       "      'lng': -122.3915779201072},\n",
       "     'southwest': {'lat': 37.76951637010728, 'lng': -122.3942775798927}}},\n",
       "   'icon': 'https://maps.gstatic.com/mapfiles/place_api/icons/v1/png_71/generic_business-71.png',\n",
       "   'icon_background_color': '#7B9EB0',\n",
       "   'icon_mask_base_uri': 'https://maps.gstatic.com/mapfiles/place_api/icons/v2/generic_pinlet',\n",
       "   'name': 'Viva Vegan Burger',\n",
       "   'opening_hours': {'open_now': False},\n",
       "   'photos': [{'height': 3024,\n",
       "     'html_attributions': ['<a href=\"https://maps.google.com/maps/contrib/100114399086076690876\">A Google User</a>'],\n",
       "     'photo_reference': 'Aap_uEAEip9Pk75xcBai5WPRvUsPcdr4q9eUm72QBoGGyaW6-MXV0fmk1Pq2lvKSHmhTambhbLRlwAo0eCFhwj1ByE-mK7JPpeD7F-gxL6ClDSyMxvB9aa_qUqtAmjqXubsIh5L8AR75Wm0b09x1g-fCA7p8XL0t_dwGY0H87UhjXFGDyHLR',\n",
       "     'width': 3024}],\n",
       "   'place_id': 'ChIJBfZxXSlxhYAR1g06rAgHQbI',\n",
       "   'plus_code': {'compound_code': 'QJC4+9R Mission Bay, San Francisco, CA, USA',\n",
       "    'global_code': '849VQJC4+9R'},\n",
       "   'rating': 0,\n",
       "   'reference': 'ChIJBfZxXSlxhYAR1g06rAgHQbI',\n",
       "   'scope': 'GOOGLE',\n",
       "   'types': ['restaurant', 'food', 'point_of_interest', 'establishment'],\n",
       "   'user_ratings_total': 0,\n",
       "   'vicinity': '601 Mission Bay Boulevard North, San Francisco'},\n",
       "  {'business_status': 'OPERATIONAL',\n",
       "   'geometry': {'location': {'lat': 37.7646519, 'lng': -122.402801},\n",
       "    'viewport': {'northeast': {'lat': 37.76606617989272,\n",
       "      'lng': -122.4014168701073},\n",
       "     'southwest': {'lat': 37.76336652010727, 'lng': -122.4041165298927}}},\n",
       "   'icon': 'https://maps.gstatic.com/mapfiles/place_api/icons/v1/png_71/restaurant-71.png',\n",
       "   'icon_background_color': '#FF9E67',\n",
       "   'icon_mask_base_uri': 'https://maps.gstatic.com/mapfiles/place_api/icons/v2/restaurant_pinlet',\n",
       "   'name': 'Next Level Burger Potrero Hill',\n",
       "   'opening_hours': {'open_now': False},\n",
       "   'photos': [{'height': 3120,\n",
       "     'html_attributions': ['<a href=\"https://maps.google.com/maps/contrib/101215920573739993040\">Christine Chan</a>'],\n",
       "     'photo_reference': 'Aap_uEB5tYFQSZIcja8O4a4FapZL-qdnfOxEPVIsuTyLKYnrr80rMgqyOq3RoXDv8pFlt23ySO0Uu14vvRQCHQOjIXaWA_0DzVNMKWqWuIH7gT0JG1cN8VYYDLpHUaLyijZsbzbscVN3ggne2jFm-mcgDaI1ng9mBTiQaHVKMrG9c5I9DO4g',\n",
       "     'width': 4160}],\n",
       "   'place_id': 'ChIJs43YeTB_j4ARRDNj_MtSPoU',\n",
       "   'plus_code': {'compound_code': 'QH7W+VV Potrero Hill, San Francisco, CA, USA',\n",
       "    'global_code': '849VQH7W+VV'},\n",
       "   'price_level': 2,\n",
       "   'rating': 4.5,\n",
       "   'reference': 'ChIJs43YeTB_j4ARRDNj_MtSPoU',\n",
       "   'scope': 'GOOGLE',\n",
       "   'types': ['restaurant', 'food', 'point_of_interest', 'establishment'],\n",
       "   'user_ratings_total': 267,\n",
       "   'vicinity': '450 Rhode Island St, San Francisco'},\n",
       "  {'business_status': 'OPERATIONAL',\n",
       "   'geometry': {'location': {'lat': 37.7766263, 'lng': -122.4025711},\n",
       "    'viewport': {'northeast': {'lat': 37.77780512989272,\n",
       "      'lng': -122.4013565701073},\n",
       "     'southwest': {'lat': 37.77510547010728, 'lng': -122.4040562298927}}},\n",
       "   'icon': 'https://maps.gstatic.com/mapfiles/place_api/icons/v1/png_71/restaurant-71.png',\n",
       "   'icon_background_color': '#FF9E67',\n",
       "   'icon_mask_base_uri': 'https://maps.gstatic.com/mapfiles/place_api/icons/v2/restaurant_pinlet',\n",
       "   'name': 'Quick Vegan SF',\n",
       "   'opening_hours': {'open_now': False},\n",
       "   'photos': [{'height': 3840,\n",
       "     'html_attributions': ['<a href=\"https://maps.google.com/maps/contrib/115146169992819564315\">A Google User</a>'],\n",
       "     'photo_reference': 'Aap_uEAxj03iwhdBY9sMBBYW56m_qAOGiCPbBT2icLvMzGaH0doe3ICq99pVHZM87YZDJ-y-ZFyoG9z4RuO_fVbKEgL2wxfO5fYehuUXH1KbjLUk0e_WobscfH5zvMyOlXxImqyoTUuNJY1o-TkfBo5yikWikx5VMbx8gYieQDzftkwmVUAW',\n",
       "     'width': 5760}],\n",
       "   'place_id': 'ChIJZ229fuZ_j4ARX7OHtdIEriI',\n",
       "   'plus_code': {'compound_code': 'QHGW+MX SoMa, San Francisco, CA, USA',\n",
       "    'global_code': '849VQHGW+MX'},\n",
       "   'rating': 4.3,\n",
       "   'reference': 'ChIJZ229fuZ_j4ARX7OHtdIEriI',\n",
       "   'scope': 'GOOGLE',\n",
       "   'types': ['restaurant', 'food', 'point_of_interest', 'establishment'],\n",
       "   'user_ratings_total': 9,\n",
       "   'vicinity': '475 6th St, San Francisco'},\n",
       "  {'business_status': 'OPERATIONAL',\n",
       "   'geometry': {'location': {'lat': 37.7599714, 'lng': -122.3882065},\n",
       "    'viewport': {'northeast': {'lat': 37.76124877989272,\n",
       "      'lng': -122.3869670201073},\n",
       "     'southwest': {'lat': 37.75854912010728, 'lng': -122.3896666798927}}},\n",
       "   'icon': 'https://maps.gstatic.com/mapfiles/place_api/icons/v1/png_71/restaurant-71.png',\n",
       "   'icon_background_color': '#FF9E67',\n",
       "   'icon_mask_base_uri': 'https://maps.gstatic.com/mapfiles/place_api/icons/v2/restaurant_pinlet',\n",
       "   'name': 'The Plant Cafe Organic',\n",
       "   'opening_hours': {'open_now': False},\n",
       "   'photos': [{'height': 3024,\n",
       "     'html_attributions': ['<a href=\"https://maps.google.com/maps/contrib/111560452835833490678\">Emprendedor ypunto</a>'],\n",
       "     'photo_reference': 'Aap_uECynz09xrk_KXHk4cL7maKIUkWEBjrkhHKE0qC88rLwma1wIoBzi3FbaeZmbng7qpgSAQGyPrlvzSKR9PUVdiqhrFfgCg4cOxAm8gmpeL2fHsOHCuWkNZfkW5MBAYlAIkfL3NMtuaBNI5HDXmyaLkEBVO5mX8hhwnAHkb0EKxF6UubI',\n",
       "     'width': 4032}],\n",
       "   'place_id': 'ChIJE2viabh_j4ARdubPMPB9n90',\n",
       "   'plus_code': {'compound_code': 'QJ56+XP Central Waterfront, San Francisco, CA, USA',\n",
       "    'global_code': '849VQJ56+XP'},\n",
       "   'price_level': 2,\n",
       "   'rating': 4,\n",
       "   'reference': 'ChIJE2viabh_j4ARdubPMPB9n90',\n",
       "   'scope': 'GOOGLE',\n",
       "   'types': ['cafe',\n",
       "    'restaurant',\n",
       "    'food',\n",
       "    'point_of_interest',\n",
       "    'store',\n",
       "    'establishment'],\n",
       "   'user_ratings_total': 129,\n",
       "   'vicinity': '2335 3rd St, San Francisco'},\n",
       "  {'business_status': 'OPERATIONAL',\n",
       "   'geometry': {'location': {'lat': 37.7644788, 'lng': -122.4032778},\n",
       "    'viewport': {'northeast': {'lat': 37.76596162989271,\n",
       "      'lng': -122.4019758701073},\n",
       "     'southwest': {'lat': 37.76326197010727, 'lng': -122.4046755298927}}},\n",
       "   'icon': 'https://maps.gstatic.com/mapfiles/place_api/icons/v1/png_71/restaurant-71.png',\n",
       "   'icon_background_color': '#FF9E67',\n",
       "   'icon_mask_base_uri': 'https://maps.gstatic.com/mapfiles/place_api/icons/v2/restaurant_pinlet',\n",
       "   'name': 'Next Level Clucker',\n",
       "   'opening_hours': {'open_now': False},\n",
       "   'place_id': 'ChIJsawbPTl_j4ARjdKXsuQMuBY',\n",
       "   'plus_code': {'compound_code': 'QH7W+QM Potrero Hill, San Francisco, CA, USA',\n",
       "    'global_code': '849VQH7W+QM'},\n",
       "   'rating': 0,\n",
       "   'reference': 'ChIJsawbPTl_j4ARjdKXsuQMuBY',\n",
       "   'scope': 'GOOGLE',\n",
       "   'types': ['restaurant', 'food', 'point_of_interest', 'establishment'],\n",
       "   'user_ratings_total': 0,\n",
       "   'vicinity': '450 Rhode Island St, San Francisco'},\n",
       "  {'business_status': 'OPERATIONAL',\n",
       "   'geometry': {'location': {'lat': 37.7738765, 'lng': -122.3916834},\n",
       "    'viewport': {'northeast': {'lat': 37.77527867989272,\n",
       "      'lng': -122.3902519701073},\n",
       "     'southwest': {'lat': 37.77257902010728, 'lng': -122.3929516298927}}},\n",
       "   'icon': 'https://maps.gstatic.com/mapfiles/place_api/icons/v1/png_71/restaurant-71.png',\n",
       "   'icon_background_color': '#FF9E67',\n",
       "   'icon_mask_base_uri': 'https://maps.gstatic.com/mapfiles/place_api/icons/v2/restaurant_pinlet',\n",
       "   'name': 'House of Tadu Ethiopian Kitchen',\n",
       "   'opening_hours': {'open_now': False},\n",
       "   'photos': [{'height': 900,\n",
       "     'html_attributions': ['<a href=\"https://maps.google.com/maps/contrib/114854422548446490469\">Div Manickam</a>'],\n",
       "     'photo_reference': 'Aap_uEBgnbhMNgK7jkkYSDrWKnUwITi5BqmFbOkeZXXbbY9pwBkb6Yb9mKXexCI38dyMEQ-4yEG3qVXaVIiAT-2rocQxRx70kd6GEPtba2L7tYfqpgd2oP-F6GvnRF_e0bSe2GSk5M-VVRea21J2EhgljUZlAvNmVvqP9KEGojMMz9pkuQZd',\n",
       "     'width': 1600}],\n",
       "   'place_id': 'ChIJJSIN89B_j4ARtEi-QMd9SKo',\n",
       "   'plus_code': {'compound_code': 'QJF5+H8 Mission Bay, San Francisco, CA, USA',\n",
       "    'global_code': '849VQJF5+H8'},\n",
       "   'price_level': 2,\n",
       "   'rating': 4.5,\n",
       "   'reference': 'ChIJJSIN89B_j4ARtEi-QMd9SKo',\n",
       "   'scope': 'GOOGLE',\n",
       "   'types': ['restaurant', 'food', 'point_of_interest', 'establishment'],\n",
       "   'user_ratings_total': 490,\n",
       "   'vicinity': '1130 4th St, San Francisco'},\n",
       "  {'business_status': 'OPERATIONAL',\n",
       "   'geometry': {'location': {'lat': 37.7766548, 'lng': -122.4025289},\n",
       "    'viewport': {'northeast': {'lat': 37.77804802989272,\n",
       "      'lng': -122.4010816201073},\n",
       "     'southwest': {'lat': 37.77534837010727, 'lng': -122.4037812798927}}},\n",
       "   'icon': 'https://maps.gstatic.com/mapfiles/place_api/icons/v1/png_71/restaurant-71.png',\n",
       "   'icon_background_color': '#FF9E67',\n",
       "   'icon_mask_base_uri': 'https://maps.gstatic.com/mapfiles/place_api/icons/v2/restaurant_pinlet',\n",
       "   'name': 'Califlower Pizza',\n",
       "   'opening_hours': {'open_now': False},\n",
       "   'photos': [{'height': 4032,\n",
       "     'html_attributions': ['<a href=\"https://maps.google.com/maps/contrib/113148559932682256985\">Christine Hong</a>'],\n",
       "     'photo_reference': 'Aap_uECW6zpbRHUe3iwmqtUySCelmZ1jAPsNnNbXF6PYa_xbQdh_clP3zrTxw9WHoux942glVqfki8Ccd2H_8Yomf3JXkiHMf0ArOzw_VbAyCoxmbFuHJiNtX1yaPvLr7XxSsqLpowcd3nVVS4xHT5rSKJlzPULaFsgkubj8NTxvWRnf1LFt',\n",
       "     'width': 3024}],\n",
       "   'place_id': 'ChIJo3qrgAh_j4ARxdkPIgfljB0',\n",
       "   'plus_code': {'compound_code': 'QHGW+MX SoMa, San Francisco, CA, USA',\n",
       "    'global_code': '849VQHGW+MX'},\n",
       "   'price_level': 2,\n",
       "   'rating': 3.8,\n",
       "   'reference': 'ChIJo3qrgAh_j4ARxdkPIgfljB0',\n",
       "   'scope': 'GOOGLE',\n",
       "   'types': ['restaurant', 'food', 'point_of_interest', 'establishment'],\n",
       "   'user_ratings_total': 12,\n",
       "   'vicinity': '60 Morris St, San Francisco'}],\n",
       " 'status': 'OK'}"
      ]
     },
     "execution_count": 8,
     "metadata": {},
     "output_type": "execute_result"
    }
   ],
   "source": [
    "veganos"
   ]
  },
  {
   "cell_type": "code",
   "execution_count": 25,
   "id": "08b88ba8",
   "metadata": {},
   "outputs": [
    {
     "data": {
      "text/plain": [
       "7"
      ]
     },
     "execution_count": 25,
     "metadata": {},
     "output_type": "execute_result"
    }
   ],
   "source": [
    "len(veganos[\"results\"])"
   ]
  },
  {
   "cell_type": "code",
   "execution_count": 19,
   "id": "0b3fb036",
   "metadata": {},
   "outputs": [
    {
     "data": {
      "text/plain": [
       "dict_keys(['business_status', 'geometry', 'icon', 'icon_background_color', 'icon_mask_base_uri', 'name', 'opening_hours', 'photos', 'place_id', 'plus_code', 'rating', 'reference', 'scope', 'types', 'user_ratings_total', 'vicinity'])"
      ]
     },
     "execution_count": 19,
     "metadata": {},
     "output_type": "execute_result"
    }
   ],
   "source": [
    "veganos[\"results\"][0].keys()"
   ]
  },
  {
   "cell_type": "code",
   "execution_count": 33,
   "id": "c9bd32b9",
   "metadata": {},
   "outputs": [
    {
     "data": {
      "text/plain": [
       "{'lat': 37.7708976, 'lng': -122.3929305}"
      ]
     },
     "execution_count": 33,
     "metadata": {},
     "output_type": "execute_result"
    }
   ],
   "source": [
    "veganos[\"results\"][0][\"geometry\"][\"location\"]"
   ]
  },
  {
   "cell_type": "code",
   "execution_count": 24,
   "id": "30094d06",
   "metadata": {},
   "outputs": [
    {
     "data": {
      "text/plain": [
       "'Viva Vegan Burger'"
      ]
     },
     "execution_count": 24,
     "metadata": {},
     "output_type": "execute_result"
    }
   ],
   "source": [
    "veganos[\"results\"][0][\"name\"]"
   ]
  },
  {
   "cell_type": "code",
   "execution_count": 32,
   "id": "4f4de185",
   "metadata": {},
   "outputs": [
    {
     "data": {
      "text/plain": [
       "'601 Mission Bay Boulevard North, San Francisco'"
      ]
     },
     "execution_count": 32,
     "metadata": {},
     "output_type": "execute_result"
    }
   ],
   "source": [
    "veganos[\"results\"][0][\"vicinity\"]"
   ]
  },
  {
   "cell_type": "code",
   "execution_count": null,
   "id": "6f61232e",
   "metadata": {},
   "outputs": [],
   "source": []
  },
  {
   "cell_type": "code",
   "execution_count": null,
   "id": "c156b289",
   "metadata": {},
   "outputs": [],
   "source": []
  },
  {
   "cell_type": "code",
   "execution_count": null,
   "id": "ddea5684",
   "metadata": {},
   "outputs": [],
   "source": []
  },
  {
   "cell_type": "code",
   "execution_count": null,
   "id": "d9edb6b8",
   "metadata": {},
   "outputs": [],
   "source": []
  },
  {
   "cell_type": "code",
   "execution_count": null,
   "id": "e836b4d7",
   "metadata": {},
   "outputs": [],
   "source": []
  }
 ],
 "metadata": {
  "kernelspec": {
   "display_name": "ironhack",
   "language": "python",
   "name": "ironhack"
  },
  "language_info": {
   "codemirror_mode": {
    "name": "ipython",
    "version": 3
   },
   "file_extension": ".py",
   "mimetype": "text/x-python",
   "name": "python",
   "nbconvert_exporter": "python",
   "pygments_lexer": "ipython3",
   "version": "3.8.12"
  }
 },
 "nbformat": 4,
 "nbformat_minor": 5
}
